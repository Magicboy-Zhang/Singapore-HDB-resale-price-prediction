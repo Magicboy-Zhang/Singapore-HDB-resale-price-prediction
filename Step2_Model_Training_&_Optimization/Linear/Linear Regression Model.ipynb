{
 "cells": [
  {
   "cell_type": "markdown",
   "metadata": {},
   "source": [
    "### Linear Regression"
   ]
  },
  {
   "cell_type": "markdown",
   "metadata": {},
   "source": [
    "#### i) Data Loading and pre-processing"
   ]
  },
  {
   "cell_type": "code",
   "execution_count": 566,
   "metadata": {},
   "outputs": [],
   "source": [
    "import pandas as pd\n",
    "import numpy as np\n",
    "from sklearn.linear_model import LinearRegression\n",
    "from sklearn.metrics import mean_absolute_error, mean_squared_error\n",
    "\n",
    "# Set the random seed\n",
    "import numpy as np\n",
    "np.random.seed(2303562)\n",
    "\n",
    "# Import housing resale data\n",
    "training_data = pd.read_csv(\"C:/Users/Admin/Desktop/ML_Project/full_hdb_perSqm_train_f34.csv\")\n",
    "test_data = pd.read_csv(\"C:/Users/Admin/Desktop/ML_Project/full_hdb_perSqm_test_f34.csv\")\n",
    "\n",
    "# Separate target variable, Y (resale_price_per_sqm)\n",
    "train_y = training_data['resale_price_per_sqm']\n",
    "train_x = training_data.drop(columns=['resale_price_per_sqm'])\n",
    "\n",
    "test_y = test_data['resale_price_per_sqm']\n",
    "test_x = test_data.drop(columns=['resale_price_per_sqm'])\n",
    "\n",
    "# Identify numerical and categorical columns\n",
    "cat_cols = list(range(5, 34))\n",
    "\n",
    "# Convert True/False to 1/0 for categorical columns\n",
    "for i in cat_cols:\n",
    "    train_x.iloc[:, i] = train_x.iloc[:, i].astype(int)\n",
    "    test_x.iloc[:, i] = test_x.iloc[:, i].astype(int)"
   ]
  },
  {
   "cell_type": "markdown",
   "metadata": {},
   "source": [
    "#### ii) Build a OLS model"
   ]
  },
  {
   "cell_type": "code",
   "execution_count": 567,
   "metadata": {},
   "outputs": [
    {
     "name": "stdout",
     "output_type": "stream",
     "text": [
      "Test MAE of Ordinary linear regression model: 506.4963999637628\n",
      "Test prediction error of Ordinary linear regression model: 670.4898085819206\n"
     ]
    }
   ],
   "source": [
    "# Numerical columns\n",
    "num_cols = list(range(1, 5))\n",
    "\n",
    "# Calculate mean and sdev for each numerical cols [lat, minPrimary_transitTime, min_dis, remaining_lease]\n",
    "train_mean = train_x.iloc[:,num_cols].mean()\n",
    "train_sdev = train_x.iloc[:,num_cols].std()\n",
    "\n",
    "# Standardize training and testing datasets\n",
    "scaled_train_x = (train_x.iloc[:, num_cols] - train_mean) / train_sdev\n",
    "scaled_test_x = (test_x.iloc[:, num_cols] - train_mean) / train_sdev\n",
    "\n",
    "# Recombine scaled train, test data with categorical data\n",
    "scaled_train_x = pd.concat([scaled_train_x, train_x.iloc[:,cat_cols]], axis=1)\n",
    "scaled_test_x = pd.concat([scaled_test_x, test_x.iloc[:,cat_cols]], axis=1)\n",
    "\n",
    "scaled_train_x = pd.DataFrame(scaled_train_x)\n",
    "scaled_test_x = pd.DataFrame(scaled_test_x)\n",
    "\n",
    "# Train the Linear Regression model\n",
    "LR_model = LinearRegression()\n",
    "LR_model.fit(scaled_train_x, train_y)\n",
    "LR_pred = LR_model.predict(scaled_test_x)\n",
    "\n",
    "# Calculate prediction error\n",
    "LR_mae = mean_absolute_error(test_y, LR_pred)\n",
    "LR_rmse = np.sqrt(mean_squared_error(test_y, LR_pred))\n",
    "print('Test MAE of Ordinary linear regression model:', LR_mae)\n",
    "print('Test prediction error of Ordinary linear regression model:', LR_rmse)"
   ]
  },
  {
   "cell_type": "markdown",
   "metadata": {},
   "source": [
    "### PCA + Linear Regression"
   ]
  },
  {
   "cell_type": "code",
   "execution_count": 568,
   "metadata": {},
   "outputs": [
    {
     "name": "stdout",
     "output_type": "stream",
     "text": [
      "[0.35259718 0.25444489 0.23506246 0.15789547]\n",
      "4\n",
      "Test MAE of Linear regression with PCA: 506.49639996376266\n",
      "Test RMSE of Linear regression with PCA: 670.4898085819206\n"
     ]
    }
   ],
   "source": [
    "from sklearn.decomposition import PCA\n",
    "\n",
    "pca = PCA()\n",
    "pca.fit(scaled_train_x.iloc[:, 0:4])\n",
    "print(pca.explained_variance_ratio_)\n",
    "\n",
    "# To select the number of PCs based on variance coverage (95%)\n",
    "var = np.cumsum(pca.explained_variance_ratio_)\n",
    "pc_num = np.argmax(var >= 0.95) + 1\n",
    "print(pc_num)\n",
    "\n",
    "# Selected PCs = 4\n",
    "selected_PCs = pca.transform(scaled_train_x.iloc[:, 0:4])[:, :pc_num]\n",
    "selected_PCs = pd.DataFrame(selected_PCs)\n",
    "\n",
    "selected_PCs_test = pca.transform(scaled_test_x.iloc[:, 0:4])[:, :pc_num]\n",
    "selected_PCs_test = pd.DataFrame(selected_PCs_test)\n",
    "\n",
    "# Transform Training and testing data by number of PCs (3)\n",
    "PC_train_data = pd.concat([selected_PCs, scaled_train_x.iloc[:, 4:33]], axis=1)\n",
    "PC_test_data = pd.concat([selected_PCs_test, scaled_test_x.iloc[:, 4:33]], axis=1)\n",
    "\n",
    "# Convert col name to str\n",
    "PC_train_data.columns = PC_train_data.columns.astype(str)\n",
    "PC_test_data.columns = PC_test_data.columns.astype(str)\n",
    "\n",
    "# Train a PCA Linear Regression model\n",
    "PCA_LR_model = LinearRegression()\n",
    "PCA_LR_model.fit(PC_train_data, train_y)\n",
    "\n",
    "# Make predictions on the test data\n",
    "PCA_LR_pred = PCA_LR_model.predict(PC_test_data)\n",
    "\n",
    "# Calculate prediction error\n",
    "PCA_LR_mae = mean_absolute_error(test_y, PCA_LR_pred)\n",
    "PCA_LR_rmse = np.sqrt(mean_squared_error(test_y, PCA_LR_pred))\n",
    "\n",
    "print('Test MAE of Linear regression with PCA:', PCA_LR_mae)\n",
    "print('Test RMSE of Linear regression with PCA:', PCA_LR_rmse)"
   ]
  },
  {
   "cell_type": "markdown",
   "metadata": {},
   "source": [
    "### Linear Regression + Ridge regularization"
   ]
  },
  {
   "cell_type": "code",
   "execution_count": 569,
   "metadata": {},
   "outputs": [
    {
     "name": "stdout",
     "output_type": "stream",
     "text": [
      "1396.0190541980212\n",
      "1.6755589754327118\n",
      "Test prediction error of Ridge regression model: 650.442412238654\n"
     ]
    }
   ],
   "source": [
    "from sklearn.linear_model import RidgeCV\n",
    "from sklearn.linear_model import Ridge\n",
    "\n",
    "# Create a new ln(y) column to minimize Lambda\n",
    "ln_train_y = np.log(train_y)\n",
    "XtY = np.dot(scaled_train_x.iloc[:, 0:4].T, ln_train_y)\n",
    "abs_XtY = np.abs(XtY)\n",
    "max_lambda = np.max(abs_XtY)\n",
    "print(max_lambda)\n",
    "\n",
    "# Setup a grid of lambda\n",
    "grid = np.linspace(1e-6, max_lambda, num=5000)\n",
    "\n",
    "# Ridge regression\n",
    "ridge_model = RidgeCV(alphas=grid, store_cv_values=True)\n",
    "ridge_model.fit(scaled_train_x.iloc[:, 0:4], ln_train_y)\n",
    "best_ridge_lambda = ridge_model.alpha_\n",
    "print(best_ridge_lambda)\n",
    "\n",
    "# Re-build Ridge regression based on best lambda\n",
    "from sklearn.linear_model import Ridge\n",
    "best_ridge_model = Ridge(alpha=best_ridge_lambda)\n",
    "best_ridge_model.fit(scaled_train_x, ln_train_y)\n",
    "\n",
    "# Calculate Prediction Error\n",
    "ridge_pred = best_ridge_model.predict(scaled_test_x)\n",
    "ridge_pred = np.exp(ridge_pred)\n",
    "ridge_rmse = np.sqrt(mean_squared_error(ridge_pred, test_y))\n",
    "print('Test prediction error of Ridge regression model:', ridge_rmse)"
   ]
  },
  {
   "cell_type": "markdown",
   "metadata": {},
   "source": [
    "### Linear Regression + Lasso regularization"
   ]
  },
  {
   "cell_type": "code",
   "execution_count": 570,
   "metadata": {},
   "outputs": [
    {
     "name": "stdout",
     "output_type": "stream",
     "text": [
      "1e-06\n",
      "Test prediction error of Lasso regression model: 650.9404450816197\n"
     ]
    }
   ],
   "source": [
    "# By using the same Lambda grid as above, we can build a Lasso Regression model for comparison\n",
    "\n",
    "from sklearn.linear_model import LassoCV\n",
    "from sklearn.linear_model import Lasso\n",
    "\n",
    "lasso_model = LassoCV(alphas=grid, cv=10)\n",
    "lasso_model.fit(scaled_train_x.iloc[:, 0:4], ln_train_y)\n",
    "best_lasso_lambda = lasso_model.alpha_\n",
    "print(best_lasso_lambda)\n",
    "\n",
    "# Re-build Lasso regression based on best lambda\n",
    "best_lasso_model = Lasso(alpha=best_lasso_lambda)\n",
    "best_lasso_model.fit(scaled_train_x, ln_train_y)\n",
    "\n",
    "# Calculate Prediction Error\n",
    "lasso_pred = best_lasso_model.predict(scaled_test_x)\n",
    "lasso_pred = np.exp(lasso_pred)\n",
    "lasso_rmse = np.sqrt(mean_squared_error(lasso_pred, test_y))\n",
    "print('Test prediction error of Lasso regression model:', lasso_rmse)\n"
   ]
  }
 ],
 "metadata": {
  "kernelspec": {
   "display_name": "Python 3",
   "language": "python",
   "name": "python3"
  },
  "language_info": {
   "codemirror_mode": {
    "name": "ipython",
    "version": 3
   },
   "file_extension": ".py",
   "mimetype": "text/x-python",
   "name": "python",
   "nbconvert_exporter": "python",
   "pygments_lexer": "ipython3",
   "version": "3.11.5"
  }
 },
 "nbformat": 4,
 "nbformat_minor": 2
}
